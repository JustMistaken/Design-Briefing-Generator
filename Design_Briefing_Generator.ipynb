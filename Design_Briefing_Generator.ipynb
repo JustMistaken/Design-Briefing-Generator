{
  "nbformat": 4,
  "nbformat_minor": 0,
  "metadata": {
    "colab": {
      "provenance": [],
      "include_colab_link": true
    },
    "kernelspec": {
      "name": "python3",
      "display_name": "Python 3"
    },
    "language_info": {
      "name": "python"
    }
  },
  "cells": [
    {
      "cell_type": "markdown",
      "metadata": {
        "id": "view-in-github",
        "colab_type": "text"
      },
      "source": [
        "<a href=\"https://colab.research.google.com/github/JustMistaken/Design-Briefing-Generator/blob/main/Design_Briefing_Generator.ipynb\" target=\"_parent\"><img src=\"https://colab.research.google.com/assets/colab-badge.svg\" alt=\"Open In Colab\"/></a>"
      ]
    },
    {
      "cell_type": "code",
      "source": [
        "%pip -q install google-genai"
      ],
      "metadata": {
        "id": "UCCbECexLk_h"
      },
      "execution_count": null,
      "outputs": []
    },
    {
      "cell_type": "code",
      "source": [
        "# Configura a API Key do Google Gemini\n",
        "\n",
        "import os\n",
        "from google.colab import userdata\n",
        "\n",
        "os.environ[\"GOOGLE_API_KEY\"] = userdata.get('GOOGLE_API_KEY')"
      ],
      "metadata": {
        "id": "H6oTRR1Stigl"
      },
      "execution_count": 45,
      "outputs": []
    },
    {
      "cell_type": "code",
      "source": [
        "# Instalar Framework ADK de agentes do Google ################################################\n",
        "!pip install -q google-adk"
      ],
      "metadata": {
        "collapsed": true,
        "id": "Xhj6vZ2btTYX"
      },
      "execution_count": null,
      "outputs": []
    },
    {
      "cell_type": "code",
      "source": [
        "# Configura o cliente da SDK do Gemini\n",
        "\n",
        "from google import genai\n",
        "\n",
        "client = genai.Client()\n",
        "\n",
        "MODEL_ID = \"gemini-2.5-flash-preview-04-17\""
      ],
      "metadata": {
        "id": "bV4w0H5TLk5g"
      },
      "execution_count": null,
      "outputs": []
    },
    {
      "cell_type": "code",
      "execution_count": null,
      "metadata": {
        "id": "aePV2bdfDeoW"
      },
      "outputs": [],
      "source": [
        "from google.adk.agents import Agent\n",
        "from google.adk.runners import Runner\n",
        "from google.adk.sessions import InMemorySessionService\n",
        "from google.adk.tools import google_search\n",
        "from google.genai import types  # Para criar conteúdos (Content e Part)\n",
        "from datetime import date\n",
        "import textwrap # Para formatar melhor a saída de texto\n",
        "from IPython.display import display, Markdown # Para exibir texto formatado no Colab\n",
        "import requests # Para fazer requisições HTTP\n",
        "import warnings\n",
        "\n",
        "warnings.filterwarnings(\"ignore\")"
      ]
    },
    {
      "cell_type": "code",
      "source": [
        "# Função auxiliar que envia uma mensagem para um agente via Runner e retorna a resposta final\n",
        "def call_agent(agent: Agent, message_text: str) -> str:\n",
        "    # Cria um serviço de sessão em memória\n",
        "    session_service = InMemorySessionService()\n",
        "    # Cria uma nova sessão (você pode personalizar os IDs conforme necessário)\n",
        "    session = session_service.create_session(app_name=agent.name, user_id=\"user1\", session_id=\"session1\")\n",
        "    # Cria um Runner para o agente\n",
        "    runner = Runner(agent=agent, app_name=agent.name, session_service=session_service)\n",
        "    # Cria o conteúdo da mensagem de entrada\n",
        "    content = types.Content(role=\"user\", parts=[types.Part(text=message_text)])\n",
        "\n",
        "    final_response = \"\"\n",
        "    # Itera assincronamente pelos eventos retornados durante a execução do agente\n",
        "    for event in runner.run(user_id=\"user1\", session_id=\"session1\", new_message=content):\n",
        "        if event.is_final_response():\n",
        "          for part in event.content.parts:\n",
        "            if part.text is not None:\n",
        "              final_response += part.text\n",
        "              final_response += \"\\n\"\n",
        "    return final_response"
      ],
      "metadata": {
        "id": "_xP4lWhsS5ko"
      },
      "execution_count": null,
      "outputs": []
    },
    {
      "cell_type": "code",
      "source": [
        "# Função auxiliar para exibir texto formatado em Markdown no Colab\n",
        "def to_markdown(text):\n",
        "  text = text.replace('•', '  *')\n",
        "  return Markdown(textwrap.indent(text, '> ', predicate=lambda _: True))"
      ],
      "metadata": {
        "id": "8dosiodaxfFR"
      },
      "execution_count": null,
      "outputs": []
    },
    {
      "cell_type": "code",
      "source": [
        "##########################################\n",
        "# --- Agente 1: Buscador de Notícias --- #\n",
        "##########################################\n",
        "\n",
        "def agente_buscador(area_atuacao, cliente, projeto, data_de_hoje):\n",
        "    \"\"\"\n",
        "    Agente que busca notícias e informações relevantes sobre a área de atuação,\n",
        "    o cliente e o projeto, para contextualizar o briefing de design.\n",
        "    \"\"\"\n",
        "\n",
        "    buscador = Agent(\n",
        "        name=\"agente_buscador\",\n",
        "        model=MODEL_ID,\n",
        "        description=\"Agente especializado em buscar informações relevantes para briefings de design.\",\n",
        "        tools=[google_search],\n",
        "        instruction=f\"\"\"\n",
        "        Você é um assistente de pesquisa especializado em design.\n",
        "        Sua tarefa é usar a ferramenta de busca do Google (google_search) para coletar informações relevantes\n",
        "        que ajudarão a contextualizar um briefing de design.\n",
        "\n",
        "        Você deve buscar informações sobre:\n",
        "        1.  **Tendências em {area_atuacao}:**\n",
        "            * Recupere as últimas notícias, artigos e estudos sobre tendências, inovações e melhores práticas em {area_atuacao}.\n",
        "            * Foque em informações que possam inspirar o processo de design e ajudar a definir a direção criativa.\n",
        "        2.  **Informações sobre {cliente}:**\n",
        "            * Busque informações sobre a empresa {cliente}, incluindo sua história, valores, identidade visual, produtos/serviços e posicionamento no mercado.\n",
        "            * Isso ajudará a garantir que o design esteja alinhado com a identidade da marca.\n",
        "        3.  **Referências para o projeto {projeto}:**\n",
        "            * Procure por projetos de design semelhantes a {projeto} que possam servir de inspiração ou referência.\n",
        "            * Analise o que funciona bem nesses projetos e o que pode ser evitado.\n",
        "\n",
        "        Atenção:\n",
        "        * Priorize fontes confiáveis e atualizadas.\n",
        "        * Seja conciso e objetivo nas suas buscas.\n",
        "        * Formate a saída de forma clara e organizada, usando títulos e listas quando apropriado.\n",
        "        \"\"\"\n",
        "    )\n",
        "\n",
        "    entrada_do_agente_buscador = f\"\"\"\n",
        "    Área de atuação: {area_atuacao}\n",
        "    Cliente: {cliente}\n",
        "    Projeto: {projeto}\n",
        "    Data de hoje: {data_de_hoje}\n",
        "    \"\"\"\n",
        "\n",
        "    informacoes_relevantes = call_agent(buscador, entrada_do_agente_buscador)\n",
        "    return informacoes_relevantes"
      ],
      "metadata": {
        "id": "whkaqiwtwVzo"
      },
      "execution_count": null,
      "outputs": []
    },
    {
      "cell_type": "code",
      "source": [
        "################################################\n",
        "# --- Agente 2: Analista de Insights --- #\n",
        "################################################\n",
        "\n",
        "def agente_analista(area_atuacao, cliente, projeto, informacoes_relevantes):\n",
        "    \"\"\"\n",
        "    Agente que analisa as informações coletadas e fornece insights relevantes para o briefing.\n",
        "    \"\"\"\n",
        "\n",
        "    analista = Agent(\n",
        "        name=\"agente_analista\",\n",
        "        model=MODEL_ID,\n",
        "        description=\"Agente especializado em analisar informações e fornecer insights concisos para briefings de design.\",\n",
        "        tools=[],  # Este agente não precisa de ferramentas externas\n",
        "        instruction=f\"\"\"\n",
        "        Você é um analista de design experiente e perspicaz.\n",
        "        Sua tarefa é analisar as informações fornecidas sobre a área de atuação, o cliente, o projeto\n",
        "        e as informações relevantes (tendências, informações sobre o cliente, referências de projeto)\n",
        "        e fornecer os 5 insights mais acionáveis e relevantes que ajudarão a orientar o briefing e o processo de design.\n",
        "\n",
        "        Considere os seguintes aspectos em sua análise:\n",
        "\n",
        "        * **Tendências em {area_atuacao}:** Identifique as tendências mais impactantes para este projeto.\n",
        "        * **Informações sobre {cliente}:** Destaque os aspectos mais importantes da identidade e contexto do cliente para o design.\n",
        "        * **Referências para o projeto {projeto}:** Aponte os aprendizados chave de projetos similares.\n",
        "\n",
        "        Selecione os 5 insights mais cruciais que devem ser considerados para a criação do briefing.\n",
        "        Apresente cada insight de forma concisa (máximo 2-3 frases por insight), clara e direta, sem formatação especial como asteriscos ou títulos longos.\n",
        "        Numere cada insight sequencialmente (1., 2., 3., 4., 5.).\n",
        "        Seja específico sobre como cada insight pode influenciar as perguntas do briefing ou as decisões de design.\n",
        "        \"\"\"\n",
        "    )\n",
        "\n",
        "    entrada_do_analista = f\"\"\"\n",
        "    Área de atuação: {area_atuacao}\n",
        "    Cliente: {cliente}\n",
        "    Projeto: {projeto}\n",
        "    Informações Relevantes: {informacoes_relevantes}\n",
        "    \"\"\"\n",
        "\n",
        "    analise_e_insights = call_agent(analista, entrada_do_analista)\n",
        "    return analise_e_insights"
      ],
      "metadata": {
        "id": "cpVhfcBu1vNk"
      },
      "execution_count": 60,
      "outputs": []
    },
    {
      "cell_type": "code",
      "source": [
        "################################################\n",
        "# --- Agente 3: Gerador de Perguntas --- #\n",
        "################################################\n",
        "\n",
        "def agente_gerador_perguntas(area_atuacao, cliente, projeto, informacoes_relevantes):\n",
        "    \"\"\"\n",
        "    Agente que gera perguntas detalhadas para o briefing com o cliente,\n",
        "    integrando informações relevantes obtidas pelo agente_buscador.\n",
        "    \"\"\"\n",
        "\n",
        "    gerador_perguntas = Agent(\n",
        "        name=\"agente_gerador_perguntas\",\n",
        "        model=MODEL_ID,\n",
        "        description=\"Agente especializado em gerar perguntas eficazes para briefings de design, considerando o contexto.\",\n",
        "        tools=[],  # Este agente não precisa de ferramentas externas\n",
        "        instruction=f\"\"\"\n",
        "        Você é um especialista em design e condução de briefings.\n",
        "        Sua tarefa é gerar uma lista de perguntas detalhadas e eficazes para um briefing com o cliente.\n",
        "\n",
        "        Use as informações fornecidas sobre a área de atuação, o cliente, o projeto e as informações relevantes\n",
        "        para gerar perguntas que cubram todos os aspectos relevantes do projeto.\n",
        "\n",
        "        As Informações Relevantes são muito importantes, use-as para guiar a sua geração de perguntas\n",
        "        e deixe claro para o usuário que você está utilizando elas.\n",
        "\n",
        "        Considere os seguintes tópicos ao gerar as perguntas:\n",
        "\n",
        "        * **Objetivos do Projeto:**\n",
        "            * Pergunte sobre os objetivos gerais do projeto, os resultados esperados e os indicadores de sucesso.\n",
        "        * **Público-alvo:**\n",
        "            * Investigue quem é o público-alvo do projeto, suas necessidades, desejos e preferências.\n",
        "        * **Mensagem e Tom de Voz:**\n",
        "            * Explore a mensagem que o projeto deve transmitir e o tom de voz apropriado.\n",
        "        * **Concorrentes:**\n",
        "            * Pergunte sobre os principais concorrentes e o que diferencia o projeto deles.\n",
        "        * **Requisitos Técnicos:**\n",
        "            * Averigue os requisitos técnicos, restrições e limitações do projeto.\n",
        "        * **Orçamento e Cronograma:**\n",
        "            * Discuta o orçamento disponível e o cronograma do projeto.\n",
        "        * **Informações Relevantes:**\n",
        "            * Use as informações relevantes (tendências, informações sobre o cliente, etc.) para gerar perguntas mais específicas e aprofundadas.\n",
        "            * **Destaque como as informações relevantes influenciam as perguntas.**\n",
        "\n",
        "        Formate a saída como uma lista numerada ou com marcadores.\n",
        "        Seja claro, conciso e objetivo em suas perguntas.\n",
        "        \"\"\"\n",
        "    )\n",
        "\n",
        "    entrada_do_gerador_perguntas = f\"\"\"\n",
        "    Área de atuação: {area_atuacao}\n",
        "    Cliente: {cliente}\n",
        "    Projeto: {projeto}\n",
        "    Informações Relevantes: {informacoes_relevantes}\n",
        "    \"\"\"\n",
        "\n",
        "    perguntas_briefing = call_agent(gerador_perguntas, entrada_do_gerador_perguntas)\n",
        "    return perguntas_briefing"
      ],
      "metadata": {
        "id": "9L42SHljwyKN"
      },
      "execution_count": null,
      "outputs": []
    },
    {
      "cell_type": "code",
      "source": [
        "################################################\n",
        "# --- Agente 4: Apresentador/Revisor --- #\n",
        "################################################\n",
        "\n",
        "def agente_apresentador(perguntas_briefing, area_atuacao, cliente, projeto):\n",
        "    \"\"\"\n",
        "    Agente que apresenta as perguntas do briefing ao usuário,\n",
        "    permite a revisão e formata a lista final.\n",
        "    \"\"\"\n",
        "\n",
        "    apresentador = Agent(\n",
        "        name=\"agente_apresentador\",\n",
        "        model=MODEL_ID,\n",
        "        description=\"Agente que apresenta, revisa e formata as perguntas do briefing.\",\n",
        "        tools=[],  # Este agente não precisa de ferramentas externas\n",
        "        instruction=f\"\"\"\n",
        "        Você é um assistente de design experiente em revisar e aprimorar perguntas de briefing.\n",
        "        Sua tarefa é revisar a lista de perguntas fornecida e apresentar uma versão final e otimizada.\n",
        "\n",
        "        Considere as melhores práticas para briefings de design ao revisar:\n",
        "        * Tornar as perguntas mais específicas e claras.\n",
        "        * Garantir que todas as áreas relevantes sejam cobertas.\n",
        "        * Usar um tom adequado.\n",
        "        * Evitar jargões.\n",
        "\n",
        "        Apresente a lista final de perguntas de forma clara e organizada, seguindo estas diretrizes de formatação para o arquivo de texto final:\n",
        "\n",
        "        1. Organize as perguntas em tópicos principais, numerando cada tópico sequencialmente (1., 2., 3., etc.).\n",
        "        2. Inclua um título claro para cada tópico principal.\n",
        "        3. Liste as sub-perguntas dentro de cada tópico usando marcadores como asteriscos (*) ou hífens (-), com uma indentação para melhor visualização.\n",
        "        4. Insira uma linha em branco entre cada tópico principal para criar espaçamento.\n",
        "        5. Remova quaisquer caracteres de formatação de texto como negrito (**) ou outros símbolos desnecessários.\n",
        "\n",
        "        Exemplo de formatação desejada:\n",
        "\n",
        "        1. Título do Primeiro Tópico\n",
        "           * Sub-pergunta 1 do primeiro tópico\n",
        "           * Sub-pergunta 2 do primeiro tópico\n",
        "\n",
        "        2. Título do Segundo Tópico\n",
        "           * Sub-pergunta 1 do segundo tópico\n",
        "           * Sub-pergunta 2 do segundo tópico\n",
        "\n",
        "        ... e assim por diante.\n",
        "\n",
        "        Não inclua explicações sobre as alterações realizadas.\n",
        "        \"\"\"\n",
        "    )\n",
        "\n",
        "    entrada_do_apresentador = f\"\"\"\n",
        "    Área de atuação: {area_atuacao}\n",
        "    Cliente: {cliente}\n",
        "    Projeto: {projeto}\n",
        "    Perguntas do Briefing: {perguntas_briefing}\n",
        "\n",
        "    Por favor, revise as perguntas e formate-as conforme as diretrizes fornecidas.\n",
        "    \"\"\"\n",
        "\n",
        "    perguntas_revisadas = call_agent(apresentador, entrada_do_apresentador)\n",
        "    return perguntas_revisadas"
      ],
      "metadata": {
        "id": "y3VO1uo5_ghO"
      },
      "execution_count": 55,
      "outputs": []
    },
    {
      "cell_type": "code",
      "source": [
        "from datetime import date\n",
        "from google.colab import files\n",
        "import os\n",
        "\n",
        "print(\"🚀 Iniciando o Sistema de Criação de Briefing de Design com 4 Agentes! 🚀\\n\")\n",
        "\n",
        "# --- Obter as Informações Iniciais do Usuário ---\n",
        "\n",
        "data_de_hoje = date.today().strftime(\"%d/%m/%Y\")\n",
        "\n",
        "# Inserir lógica do sistema de agentes ################################################\n",
        "\n",
        "area_atuacao = input(\"Para direcionar a criação do briefing, poderia me informar qual é a sua área de atuação? (Ex: Identidade visual, Design de embalagens, UX/UI, etc.) \")\n",
        "cliente = input(\"\\nPor favor, insira o nome de projeto para o qual este briefing está sendo criado: \")\n",
        "projeto = input(\"\\nCerto. Poderia descrever brevemente sobre o que se trata este projeto de design? (Ex: Novo website, Campanha de marketing, Redesign de logo) \")\n",
        "\n",
        "if not (area_atuacao and projeto):\n",
        "    print(\"\\nOps! Parece que você esqueceu de preencher alguma informação importante. Por favor, revise e tente novamente.\")\n",
        "else:\n",
        "    print(f\"\\nExcelente! Com as informações fornecidas, vamos começar a criar o briefing para o projeto '{projeto}'.\\n\\n--- 🔍 Pesquisando sobre o tema ---\\n\")\n",
        "\n",
        "    informacoes_relevantes = agente_buscador(area_atuacao, cliente, projeto, data_de_hoje)\n",
        "    print(\"--- ✅ Analisando as informações ---\\n\")\n",
        "\n",
        "    analise_e_insights = agente_analista(area_atuacao, cliente, projeto, informacoes_relevantes)\n",
        "    print(\"--- ❓ Gerando questões ---\\n\")\n",
        "\n",
        "    perguntas_briefing = agente_gerador_perguntas(area_atuacao, cliente, projeto, analise_e_insights)\n",
        "    print(\"--- 💫 Revisando os dados ---\\n\")\n",
        "\n",
        "    perguntas_revisadas = agente_apresentador(perguntas_briefing, area_atuacao, cliente, projeto)\n",
        "    print(\"--- 💛 Resultado ---\\n\")\n",
        "\n",
        "    # Cria o conteúdo para o arquivo TXT (título + insights + perguntas revisadas)\n",
        "    nome_arquivo = f\"briefing_design_{cliente.replace(' ', '_')}_{projeto.replace(' ', '_')}_{data_de_hoje.replace('/', '_')}.txt\"\n",
        "    titulo_briefing = f\"Briefing: {projeto} para {cliente} \\n\\n\"  # Cria o título com o nome do projeto\n",
        "    conteudo_arquivo = titulo_briefing + \"-- Insights Gerados --\\n\\n\" + analise_e_insights + \"\\n\\n-- Perguntas do Briefing --\\n\\n\" + perguntas_revisadas  # Concatena título, insights e perguntas\n",
        "\n",
        "    # Salva o conteúdo no arquivo local\n",
        "    with open(nome_arquivo, \"w\") as f:\n",
        "        f.write(conteudo_arquivo)\n",
        "\n",
        "    # Disponibiliza o arquivo para download\n",
        "    files.download(nome_arquivo)\n",
        "\n",
        "    print(f\"\\n🎉 O briefing com as perguntas revisadas foi gerado e o arquivo '{nome_arquivo}' está pronto para download.\")"
      ],
      "metadata": {
        "colab": {
          "base_uri": "https://localhost:8080/",
          "height": 401
        },
        "id": "IV0dg51vw2Ie",
        "outputId": "6075f4fc-50dd-4c71-d415-86ec9c41f7b3"
      },
      "execution_count": 61,
      "outputs": [
        {
          "output_type": "stream",
          "name": "stdout",
          "text": [
            "🚀 Iniciando o Sistema de Criação de Briefing de Design com 4 Agentes! 🚀\n",
            "Para direcionar a criação do briefing, poderia me informar qual é a sua área de atuação? (Ex: Identidade visual, Design de embalagens, UX/UI, etc.) UX/UI\n",
            "\n",
            "Por favor, insira o nome de projeto para o qual este briefing está sendo criado: Liga de Favela\n",
            "\n",
            "Certo. Poderia descrever brevemente sobre o que se trata este projeto de design? (Ex: Novo website, Campanha de marketing, Redesign de logo) Novo aplicativo mobile\n",
            "\n",
            "Excelente! Com as informações fornecidas, vamos começar a criar o briefing para o projeto 'Novo aplicativo mobile'.\n",
            "\n",
            "--- 🔍 Pesquisando sobre o tema ---\n",
            "\n",
            "--- ✅ Analisando as informações ---\n",
            "\n",
            "--- ❓ Gerando questões ---\n",
            "\n",
            "--- 💫 Revisando os dados ---\n",
            "\n",
            "--- 💛 Resultado ---\n",
            "\n"
          ]
        },
        {
          "output_type": "display_data",
          "data": {
            "text/plain": [
              "<IPython.core.display.Javascript object>"
            ],
            "application/javascript": [
              "\n",
              "    async function download(id, filename, size) {\n",
              "      if (!google.colab.kernel.accessAllowed) {\n",
              "        return;\n",
              "      }\n",
              "      const div = document.createElement('div');\n",
              "      const label = document.createElement('label');\n",
              "      label.textContent = `Downloading \"${filename}\": `;\n",
              "      div.appendChild(label);\n",
              "      const progress = document.createElement('progress');\n",
              "      progress.max = size;\n",
              "      div.appendChild(progress);\n",
              "      document.body.appendChild(div);\n",
              "\n",
              "      const buffers = [];\n",
              "      let downloaded = 0;\n",
              "\n",
              "      const channel = await google.colab.kernel.comms.open(id);\n",
              "      // Send a message to notify the kernel that we're ready.\n",
              "      channel.send({})\n",
              "\n",
              "      for await (const message of channel.messages) {\n",
              "        // Send a message to notify the kernel that we're ready.\n",
              "        channel.send({})\n",
              "        if (message.buffers) {\n",
              "          for (const buffer of message.buffers) {\n",
              "            buffers.push(buffer);\n",
              "            downloaded += buffer.byteLength;\n",
              "            progress.value = downloaded;\n",
              "          }\n",
              "        }\n",
              "      }\n",
              "      const blob = new Blob(buffers, {type: 'application/binary'});\n",
              "      const a = document.createElement('a');\n",
              "      a.href = window.URL.createObjectURL(blob);\n",
              "      a.download = filename;\n",
              "      div.appendChild(a);\n",
              "      a.click();\n",
              "      div.remove();\n",
              "    }\n",
              "  "
            ]
          },
          "metadata": {}
        },
        {
          "output_type": "display_data",
          "data": {
            "text/plain": [
              "<IPython.core.display.Javascript object>"
            ],
            "application/javascript": [
              "download(\"download_1051beb9-6ec0-4ed8-9952-9f271686f33f\", \"briefing_design_Liga_de_Favela_Novo_aplicativo_mobile_18_05_2025.txt\", 3973)"
            ]
          },
          "metadata": {}
        },
        {
          "output_type": "stream",
          "name": "stdout",
          "text": [
            "\n",
            "🎉 O briefing com as perguntas revisadas foi gerado e o arquivo 'briefing_design_Liga_de_Favela_Novo_aplicativo_mobile_18_05_2025.txt' está pronto para download.\n"
          ]
        }
      ]
    }
  ]
}